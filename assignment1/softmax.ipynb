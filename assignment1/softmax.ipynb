{
 "cells": [
  {
   "cell_type": "markdown",
   "metadata": {},
   "source": [
    "# Softmax exercise\n",
    "\n",
    "*Complete and hand in this completed worksheet (including its outputs and any supporting code outside of the worksheet) with your assignment submission. For more details see the [assignments page](http://vision.stanford.edu/teaching/cs231n/assignments.html) on the course website.*\n",
    "\n",
    "This exercise is analogous to the SVM exercise. You will:\n",
    "\n",
    "- implement a fully-vectorized **loss function** for the Softmax classifier\n",
    "- implement the fully-vectorized expression for its **analytic gradient**\n",
    "- **check your implementation** with numerical gradient\n",
    "- use a validation set to **tune the learning rate and regularization** strength\n",
    "- **optimize** the loss function with **SGD**\n",
    "- **visualize** the final learned weights\n"
   ]
  },
  {
   "cell_type": "code",
   "execution_count": 1,
   "metadata": {},
   "outputs": [],
   "source": [
    "import random\n",
    "import numpy as np\n",
    "from cs231n.data_utils import load_CIFAR10\n",
    "import matplotlib.pyplot as plt\n",
    "\n",
    "from __future__ import print_function\n",
    "\n",
    "%matplotlib inline\n",
    "plt.rcParams['figure.figsize'] = (10.0, 8.0) # set default size of plots\n",
    "plt.rcParams['image.interpolation'] = 'nearest'\n",
    "plt.rcParams['image.cmap'] = 'gray'\n",
    "\n",
    "# for auto-reloading extenrnal modules\n",
    "# see http://stackoverflow.com/questions/1907993/autoreload-of-modules-in-ipython\n",
    "%load_ext autoreload\n",
    "%autoreload 2"
   ]
  },
  {
   "cell_type": "code",
   "execution_count": 2,
   "metadata": {},
   "outputs": [
    {
     "name": "stdout",
     "output_type": "stream",
     "text": [
      "Train data shape:  (49000, 3073)\n",
      "Train labels shape:  (49000,)\n",
      "Validation data shape:  (1000, 3073)\n",
      "Validation labels shape:  (1000,)\n",
      "Test data shape:  (1000, 3073)\n",
      "Test labels shape:  (1000,)\n",
      "dev data shape:  (500, 3073)\n",
      "dev labels shape:  (500,)\n"
     ]
    }
   ],
   "source": [
    "def get_CIFAR10_data(num_training=49000, num_validation=1000, num_test=1000, num_dev=500):\n",
    "    \"\"\"\n",
    "    Load the CIFAR-10 dataset from disk and perform preprocessing to prepare\n",
    "    it for the linear classifier. These are the same steps as we used for the\n",
    "    SVM, but condensed to a single function.  \n",
    "    \"\"\"\n",
    "    # Load the raw CIFAR-10 data\n",
    "    cifar10_dir = 'cs231n/datasets/cifar-10-batches-py'\n",
    "    X_train, y_train, X_test, y_test = load_CIFAR10(cifar10_dir)\n",
    "    \n",
    "    # subsample the data\n",
    "    mask = list(range(num_training, num_training + num_validation))\n",
    "    X_val = X_train[mask]\n",
    "    y_val = y_train[mask]\n",
    "    mask = list(range(num_training))\n",
    "    X_train = X_train[mask]\n",
    "    y_train = y_train[mask]\n",
    "    mask = list(range(num_test))\n",
    "    X_test = X_test[mask]\n",
    "    y_test = y_test[mask]\n",
    "    mask = np.random.choice(num_training, num_dev, replace=False)\n",
    "    X_dev = X_train[mask]\n",
    "    y_dev = y_train[mask]\n",
    "    \n",
    "    # Preprocessing: reshape the image data into rows\n",
    "    X_train = np.reshape(X_train, (X_train.shape[0], -1))\n",
    "    X_val = np.reshape(X_val, (X_val.shape[0], -1))\n",
    "    X_test = np.reshape(X_test, (X_test.shape[0], -1))\n",
    "    X_dev = np.reshape(X_dev, (X_dev.shape[0], -1))\n",
    "    \n",
    "    # Normalize the data: subtract the mean image\n",
    "    mean_image = np.mean(X_train, axis = 0)\n",
    "    X_train -= mean_image\n",
    "    X_val -= mean_image\n",
    "    X_test -= mean_image\n",
    "    X_dev -= mean_image\n",
    "    \n",
    "    # add bias dimension and transform into columns\n",
    "    X_train = np.hstack([X_train, np.ones((X_train.shape[0], 1))])\n",
    "    X_val = np.hstack([X_val, np.ones((X_val.shape[0], 1))])\n",
    "    X_test = np.hstack([X_test, np.ones((X_test.shape[0], 1))])\n",
    "    X_dev = np.hstack([X_dev, np.ones((X_dev.shape[0], 1))])\n",
    "    \n",
    "    return X_train, y_train, X_val, y_val, X_test, y_test, X_dev, y_dev\n",
    "\n",
    "\n",
    "# Invoke the above function to get our data.\n",
    "X_train, y_train, X_val, y_val, X_test, y_test, X_dev, y_dev = get_CIFAR10_data()\n",
    "print('Train data shape: ', X_train.shape)\n",
    "print('Train labels shape: ', y_train.shape)\n",
    "print('Validation data shape: ', X_val.shape)\n",
    "print('Validation labels shape: ', y_val.shape)\n",
    "print('Test data shape: ', X_test.shape)\n",
    "print('Test labels shape: ', y_test.shape)\n",
    "print('dev data shape: ', X_dev.shape)\n",
    "print('dev labels shape: ', y_dev.shape)"
   ]
  },
  {
   "cell_type": "markdown",
   "metadata": {},
   "source": [
    "## Softmax Classifier\n",
    "\n",
    "Your code for this section will all be written inside **cs231n/classifiers/softmax.py**. \n"
   ]
  },
  {
   "cell_type": "code",
   "execution_count": 3,
   "metadata": {},
   "outputs": [
    {
     "name": "stdout",
     "output_type": "stream",
     "text": [
      "loss: 0.045888\n",
      "sanity check: 2.302585\n"
     ]
    }
   ],
   "source": [
    "# First implement the naive softmax loss function with nested loops.\n",
    "# Open the file cs231n/classifiers/softmax.py and implement the\n",
    "# softmax_loss_naive function.\n",
    "\n",
    "from cs231n.classifiers.softmax import softmax_loss_naive\n",
    "import time\n",
    "\n",
    "# Generate a random softmax weight matrix and use it to compute the loss.\n",
    "W = np.random.randn(3073, 10) * 0.0001\n",
    "loss, grad = softmax_loss_naive(W, X_dev, y_dev, 0.0)\n",
    "\n",
    "# As a rough sanity check, our loss should be something close to -log(0.1).\n",
    "print('loss: %f' % loss)\n",
    "print('sanity check: %f' % (-np.log(0.1)))"
   ]
  },
  {
   "cell_type": "markdown",
   "metadata": {},
   "source": [
    "## Inline Question 1:\n",
    "Why do we expect our loss to be close to -log(0.1)? Explain briefly.**\n",
    "\n",
    "**Your answer:** *Fill this in*\n"
   ]
  },
  {
   "cell_type": "code",
   "execution_count": 4,
   "metadata": {},
   "outputs": [
    {
     "name": "stdout",
     "output_type": "stream",
     "text": [
      "numerical: -0.084750 analytic: -0.084750, relative error: 3.484252e-08\n",
      "numerical: 0.363924 analytic: 0.363924, relative error: 5.559703e-09\n",
      "numerical: 0.041472 analytic: 0.041472, relative error: 1.344186e-07\n",
      "numerical: 0.434744 analytic: 0.434744, relative error: 4.940817e-09\n",
      "numerical: -0.104500 analytic: -0.104500, relative error: 8.910937e-10\n",
      "numerical: -0.079979 analytic: -0.079979, relative error: 2.544270e-08\n",
      "numerical: -0.073741 analytic: -0.073741, relative error: 3.051087e-09\n",
      "numerical: -0.048422 analytic: -0.048422, relative error: 1.658174e-08\n",
      "numerical: 0.036839 analytic: 0.036839, relative error: 4.830301e-09\n",
      "numerical: 0.175619 analytic: 0.175619, relative error: 1.196920e-08\n",
      "numerical: 0.019616 analytic: 0.019616, relative error: 1.391395e-08\n",
      "numerical: -0.043078 analytic: -0.043078, relative error: 3.475158e-08\n",
      "numerical: -0.048039 analytic: -0.048039, relative error: 4.829477e-08\n",
      "numerical: 0.032857 analytic: 0.032857, relative error: 9.025773e-08\n",
      "numerical: 0.187065 analytic: 0.187065, relative error: 6.379031e-10\n",
      "numerical: -0.009447 analytic: -0.009447, relative error: 3.014826e-09\n",
      "numerical: -0.016401 analytic: -0.016401, relative error: 1.533748e-07\n",
      "numerical: 0.073193 analytic: 0.073193, relative error: 2.363496e-08\n",
      "numerical: -0.003026 analytic: -0.003026, relative error: 1.518080e-07\n",
      "numerical: 0.045894 analytic: 0.045894, relative error: 2.156079e-08\n"
     ]
    }
   ],
   "source": [
    "# Complete the implementation of softmax_loss_naive and implement a (naive)\n",
    "# version of the gradient that uses nested loops.\n",
    "loss, grad = softmax_loss_naive(W, X_dev, y_dev, 0.0)\n",
    "\n",
    "# As we did for the SVM, use numeric gradient checking as a debugging tool.\n",
    "# The numeric gradient should be close to the analytic gradient.\n",
    "from cs231n.gradient_check import grad_check_sparse\n",
    "f = lambda w: softmax_loss_naive(w, X_dev, y_dev, 0.0)[0]\n",
    "grad_numerical = grad_check_sparse(f, W, grad, 10)\n",
    "\n",
    "# similar to SVM case, do another gradient check with regularization\n",
    "loss, grad = softmax_loss_naive(W, X_dev, y_dev, 5e1)\n",
    "f = lambda w: softmax_loss_naive(w, X_dev, y_dev, 5e1)[0]\n",
    "grad_numerical = grad_check_sparse(f, W, grad, 10)"
   ]
  },
  {
   "cell_type": "code",
   "execution_count": 7,
   "metadata": {},
   "outputs": [
    {
     "name": "stdout",
     "output_type": "stream",
     "text": [
      "naive loss: 4.588750e-02 computed in 0.002888s\n",
      "vectorized loss: 2.359807e+00 computed in 0.042640s\n",
      "Loss difference: 2.313919\n",
      "Gradient difference: 328.465747\n"
     ]
    }
   ],
   "source": [
    "# Now that we have a naive implementation of the softmax loss function and its gradient,\n",
    "# implement a vectorized version in softmax_loss_vectorized.\n",
    "# The two versions should compute the same results, but the vectorized version should be\n",
    "# much faster.\n",
    "tic = time.time()\n",
    "loss_naive, grad_naive = softmax_loss_naive(W, X_dev, y_dev, 0.000005)\n",
    "toc = time.time()\n",
    "print('naive loss: %e computed in %fs' % (loss_naive, toc - tic))\n",
    "\n",
    "from cs231n.classifiers.softmax import softmax_loss_vectorized\n",
    "tic = time.time()\n",
    "loss_vectorized, grad_vectorized = softmax_loss_vectorized(W, X_dev, y_dev, 0.000005)\n",
    "toc = time.time()\n",
    "print('vectorized loss: %e computed in %fs' % (loss_vectorized, toc - tic))\n",
    "\n",
    "# As we did for the SVM, we use the Frobenius norm to compare the two versions\n",
    "# of the gradient.\n",
    "grad_difference = np.linalg.norm(grad_naive - grad_vectorized, ord='fro')\n",
    "print('Loss difference: %f' % np.abs(loss_naive - loss_vectorized))\n",
    "print('Gradient difference: %f' % grad_difference)"
   ]
  },
  {
   "cell_type": "code",
   "execution_count": 11,
   "metadata": {},
   "outputs": [
    {
     "name": "stdout",
     "output_type": "stream",
     "text": [
      "iteration 0 / 700: loss 5.419747\n",
      "iteration 100 / 700: loss 3.212871\n",
      "iteration 200 / 700: loss 2.691447\n",
      "iteration 300 / 700: loss 2.658166\n",
      "iteration 400 / 700: loss 2.426446\n",
      "iteration 500 / 700: loss 2.539295\n",
      "iteration 600 / 700: loss 2.485847\n",
      "iteration 0 / 700: loss 5.490417\n",
      "iteration 100 / 700: loss 2.999973\n",
      "iteration 200 / 700: loss 2.938422\n",
      "iteration 300 / 700: loss 2.737386\n",
      "iteration 400 / 700: loss 2.342235\n",
      "iteration 500 / 700: loss 2.627640\n",
      "iteration 600 / 700: loss 2.367410\n",
      "iteration 0 / 700: loss 6.035150\n",
      "iteration 100 / 700: loss 3.082578\n",
      "iteration 200 / 700: loss 2.815174\n",
      "iteration 300 / 700: loss 2.730884\n",
      "iteration 400 / 700: loss 2.371255\n",
      "iteration 500 / 700: loss 2.506192\n",
      "iteration 600 / 700: loss 2.183382\n",
      "iteration 0 / 700: loss 5.847626\n",
      "iteration 100 / 700: loss 3.113784\n",
      "iteration 200 / 700: loss 2.899974\n",
      "iteration 300 / 700: loss 2.459699\n",
      "iteration 400 / 700: loss 2.510162\n",
      "iteration 500 / 700: loss 2.253649\n",
      "iteration 600 / 700: loss 2.278258\n",
      "iteration 0 / 700: loss 4.869070\n",
      "iteration 100 / 700: loss 3.327507\n",
      "iteration 200 / 700: loss 2.735700\n",
      "iteration 300 / 700: loss 2.590965\n",
      "iteration 400 / 700: loss 2.400762\n",
      "iteration 500 / 700: loss 2.471381\n",
      "iteration 600 / 700: loss 2.424877\n",
      "iteration 0 / 700: loss 5.794024\n",
      "iteration 100 / 700: loss 2.919733\n",
      "iteration 200 / 700: loss 2.770387\n",
      "iteration 300 / 700: loss 2.400572\n",
      "iteration 400 / 700: loss 2.214801\n",
      "iteration 500 / 700: loss 2.286218\n",
      "iteration 600 / 700: loss 2.178121\n",
      "iteration 0 / 700: loss 5.966824\n",
      "iteration 100 / 700: loss 3.148224\n",
      "iteration 200 / 700: loss 2.776358\n",
      "iteration 300 / 700: loss 2.434625\n",
      "iteration 400 / 700: loss 2.247411\n",
      "iteration 500 / 700: loss 2.185563\n",
      "iteration 600 / 700: loss 2.249512\n",
      "iteration 0 / 700: loss 5.187303\n",
      "iteration 100 / 700: loss 3.094381\n",
      "iteration 200 / 700: loss 2.599218\n",
      "iteration 300 / 700: loss 2.668745\n",
      "iteration 400 / 700: loss 2.373503\n",
      "iteration 500 / 700: loss 2.367130\n",
      "iteration 600 / 700: loss 2.096251\n",
      "iteration 0 / 700: loss 5.683011\n",
      "iteration 100 / 700: loss 2.699369\n",
      "iteration 200 / 700: loss 2.614862\n",
      "iteration 300 / 700: loss 2.411806\n",
      "iteration 400 / 700: loss 2.267843\n",
      "iteration 500 / 700: loss 2.262586\n",
      "iteration 600 / 700: loss 2.380974\n",
      "iteration 0 / 700: loss 4.588423\n",
      "iteration 100 / 700: loss 2.864491\n",
      "iteration 200 / 700: loss 2.551461\n",
      "iteration 300 / 700: loss 2.508200\n",
      "iteration 400 / 700: loss 2.402922\n",
      "iteration 500 / 700: loss 2.110437\n",
      "iteration 600 / 700: loss 2.176832\n",
      "lr 5.000000e-07 reg 1.000000e-08 train accuracy: 0.279980 val accuracy: 0.270000\n",
      "lr 5.000000e-07 reg 3.000000e-08 train accuracy: 0.283510 val accuracy: 0.277000\n",
      "lr 5.000000e-07 reg 5.000000e-08 train accuracy: 0.287306 val accuracy: 0.282000\n",
      "lr 5.000000e-07 reg 7.000000e-08 train accuracy: 0.288122 val accuracy: 0.289000\n",
      "lr 5.000000e-07 reg 9.000000e-08 train accuracy: 0.286980 val accuracy: 0.270000\n",
      "lr 7.000000e-07 reg 1.000000e-08 train accuracy: 0.296388 val accuracy: 0.281000\n",
      "lr 7.000000e-07 reg 3.000000e-08 train accuracy: 0.295939 val accuracy: 0.311000\n",
      "lr 7.000000e-07 reg 5.000000e-08 train accuracy: 0.292551 val accuracy: 0.291000\n",
      "lr 7.000000e-07 reg 7.000000e-08 train accuracy: 0.300041 val accuracy: 0.295000\n",
      "lr 7.000000e-07 reg 9.000000e-08 train accuracy: 0.298041 val accuracy: 0.321000\n",
      "best validation accuracy achieved during cross-validation: 0.321000\n"
     ]
    }
   ],
   "source": [
    "# Use the validation set to tune hyperparameters (regularization strength and\n",
    "# learning rate). You should experiment with different ranges for the learning\n",
    "# rates and regularization strengths; if you are careful you should be able to\n",
    "# get a classification accuracy of over 0.35 on the validation set.\n",
    "from cs231n.classifiers import Softmax\n",
    "results = {}\n",
    "best_val = -1\n",
    "best_softmax = None\n",
    "# learning_rates = [1e-7, 5e-7]\n",
    "# regularization_strengths = [2.5e4, 5e4]\n",
    "learning_rates = np.arange(5,9,2)*1e-7\n",
    "regularization_strengths = np.arange(1,11,2)*1e-8\n",
    "\n",
    "################################################################################\n",
    "# TODO:                                                                        #\n",
    "# Use the validation set to set the learning rate and regularization strength. #\n",
    "# This should be identical to the validation that you did for the SVM; save    #\n",
    "# the best trained softmax classifer in best_softmax.                          #\n",
    "################################################################################\n",
    "params = [(x, y) for x in learning_rates for y in regularization_strengths]\n",
    "for lr, regular in params:\n",
    "    softmax = Softmax()\n",
    "    loss_hist = softmax.train(X_train, y_train, learning_rate = lr, reg = regular,\n",
    "                              num_iters = 700, verbose = True)\n",
    "    y_train_pred = softmax.predict(X_train)\n",
    "    train_accuracy = np.mean(y_train == y_train_pred)\n",
    "    y_val_pred = softmax.predict(X_val)\n",
    "    val_accuracy = np.mean(y_val == y_val_pred)\n",
    "    results[(lr, regular)] = (train_accuracy, val_accuracy)\n",
    "    if (val_accuracy > best_val):\n",
    "        best_val = val_accuracy\n",
    "        best_softmax = softmax\n",
    "    \n",
    "################################################################################\n",
    "#                              END OF YOUR CODE                                #\n",
    "################################################################################\n",
    "    \n",
    "# Print out results.\n",
    "for lr, reg in sorted(results):\n",
    "    train_accuracy, val_accuracy = results[(lr, reg)]\n",
    "    print('lr %e reg %e train accuracy: %f val accuracy: %f' % (\n",
    "                lr, reg, train_accuracy, val_accuracy))\n",
    "    \n",
    "print('best validation accuracy achieved during cross-validation: %f' % best_val)"
   ]
  },
  {
   "cell_type": "code",
   "execution_count": 12,
   "metadata": {},
   "outputs": [
    {
     "name": "stdout",
     "output_type": "stream",
     "text": [
      "softmax on raw pixels final test set accuracy: 0.314000\n"
     ]
    }
   ],
   "source": [
    "# evaluate on test set\n",
    "# Evaluate the best softmax on test set\n",
    "y_test_pred = best_softmax.predict(X_test)\n",
    "test_accuracy = np.mean(y_test == y_test_pred)\n",
    "print('softmax on raw pixels final test set accuracy: %f' % (test_accuracy, ))"
   ]
  },
  {
   "cell_type": "code",
   "execution_count": 13,
   "metadata": {},
   "outputs": [
    {
     "data": {
      "image/png": "[encoded data removed]",
      "text/plain": [
       "<matplotlib.figure.Figure at 0x181c965dd8>"
      ]
     },
     "metadata": {},
     "output_type": "display_data"
    }
   ],
   "source": [
    "# Visualize the learned weights for each class\n",
    "w = best_softmax.W[:-1,:] # strip out the bias\n",
    "w = w.reshape(32, 32, 3, 10)\n",
    "\n",
    "w_min, w_max = np.min(w), np.max(w)\n",
    "\n",
    "classes = ['plane', 'car', 'bird', 'cat', 'deer', 'dog', 'frog', 'horse', 'ship', 'truck']\n",
    "for i in range(10):\n",
    "    plt.subplot(2, 5, i + 1)\n",
    "    \n",
    "    # Rescale the weights to be between 0 and 255\n",
    "    wimg = 255.0 * (w[:, :, :, i].squeeze() - w_min) / (w_max - w_min)\n",
    "    plt.imshow(wimg.astype('uint8'))\n",
    "    plt.axis('off')\n",
    "    plt.title(classes[i])"
   ]
  },
  {
   "cell_type": "code",
   "execution_count": null,
   "metadata": {
    "collapsed": true
   },
   "outputs": [],
   "source": []
  }
 ],
 "metadata": {
  "kernelspec": {
   "display_name": "Python 3",
   "language": "python",
   "name": "python3"
  },
  "language_info": {
   "codemirror_mode": {
    "name": "ipython",
    "version": 3
   },
   "file_extension": ".py",
   "mimetype": "text/x-python",
   "name": "python",
   "nbconvert_exporter": "python",
   "pygments_lexer": "ipython3",
   "version": "3.6.2"
  }
 },
 "nbformat": 4,
 "nbformat_minor": 1
}
